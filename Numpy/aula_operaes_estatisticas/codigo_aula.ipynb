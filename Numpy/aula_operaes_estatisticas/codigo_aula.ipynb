{
 "cells": [
  {
   "cell_type": "code",
   "execution_count": 13,
   "metadata": {},
   "outputs": [
    {
     "data": {
      "text/plain": [
       "array([2., 3., 5.])"
      ]
     },
     "execution_count": 13,
     "metadata": {},
     "output_type": "execute_result"
    }
   ],
   "source": [
    "# Operações estatísticas mais usadas\n",
    "import numpy as np\n",
    "\n",
    "numeros = np.array([4, 9, 2, 10, 7])\n",
    "\n",
    "np.min(numeros) # minimo\n",
    "np.max(numeros) # máximo\n",
    "np.mean(numeros) # média\n",
    "np.median(numeros) # mediana \n",
    "np.sum(numeros) # soma\n",
    "\n",
    "np.argmin(numeros) # índice do menor valor\n",
    "np.argmax(numeros) # índice do maior valor\n",
    "\n",
    "np.cumsum(numeros) # soma culmulativa(soma com o valor anterior)\n",
    "\n",
    "decimais = np.array([2.5, 3.2, 4.8])\n",
    "np.round(decimais)"
   ]
  }
 ],
 "metadata": {
  "kernelspec": {
   "display_name": "jhonatan",
   "language": "python",
   "name": "python3"
  },
  "language_info": {
   "codemirror_mode": {
    "name": "ipython",
    "version": 3
   },
   "file_extension": ".py",
   "mimetype": "text/x-python",
   "name": "python",
   "nbconvert_exporter": "python",
   "pygments_lexer": "ipython3",
   "version": "3.12.0"
  }
 },
 "nbformat": 4,
 "nbformat_minor": 2
}
