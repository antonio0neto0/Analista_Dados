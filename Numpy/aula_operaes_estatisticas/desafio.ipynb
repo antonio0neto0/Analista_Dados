{
 "cells": [
  {
   "cell_type": "code",
   "execution_count": 3,
   "metadata": {},
   "outputs": [
    {
     "name": "stdout",
     "output_type": "stream",
     "text": [
      "4.0\n",
      "1\n",
      "8\n",
      "[1. 3. 3.]\n"
     ]
    }
   ],
   "source": [
    "import numpy as np\n",
    "\n",
    "# Desafio 1\n",
    "# Dado o array de numeros abaixo, calcule a média dos números e exiba o resultado.\n",
    "numeros = np.array([5, 8, 1, 3])\n",
    "print(np.median(numeros))\n",
    "\n",
    "# Desafio 2\n",
    "# Encontre o valor mínimo dentro deste array e exiba o resultado.\n",
    "print(np.min(numeros))\n",
    "\n",
    "# Desafio 3\n",
    "# Encontre o índice do maior valor deste array e exiba o resultado.\n",
    "print(np.max(numeros))\n",
    "\n",
    "\n",
    "# Desafio 4\n",
    "# Arredonde os valores do seguinte array de decimais e exiba o resultado\n",
    "decimais = np.array([1.1, 2.6, 3.4])\n",
    "print(np.round(decimais))"
   ]
  }
 ],
 "metadata": {
  "kernelspec": {
   "display_name": "neto",
   "language": "python",
   "name": "python3"
  },
  "language_info": {
   "codemirror_mode": {
    "name": "ipython",
    "version": 3
   },
   "file_extension": ".py",
   "mimetype": "text/x-python",
   "name": "python",
   "nbconvert_exporter": "python",
   "pygments_lexer": "ipython3",
   "version": "3.13.2"
  }
 },
 "nbformat": 4,
 "nbformat_minor": 2
}
