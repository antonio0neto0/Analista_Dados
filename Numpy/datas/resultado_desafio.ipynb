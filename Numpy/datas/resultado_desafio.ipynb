{
 "cells": [
  {
   "cell_type": "code",
   "execution_count": 13,
   "metadata": {},
   "outputs": [
    {
     "name": "stdout",
     "output_type": "stream",
     "text": [
      "169 days\n"
     ]
    },
    {
     "data": {
      "text/plain": [
       "array('2030-05-25T17:25:35', dtype='datetime64[s]')"
      ]
     },
     "execution_count": 13,
     "metadata": {},
     "output_type": "execute_result"
    }
   ],
   "source": [
    "# Desafio 1 - Crie um array com todos os dias de dezembro de 2023\n",
    "import numpy as np\n",
    "\n",
    "datas = np.arange('2023-12-01','2024-01-01',dtype='datetime64')\n",
    "datas\n",
    "\n",
    "# Desafio 2 - Dadas duas datas em strings, '2025-07-15' e '2025-12-31', converta-as em objetos de data NumPy e calcule a diferença em dias entre as duas datas.\n",
    "data_1 = np.array('2025-07-15',dtype='datetime64')\n",
    "data_2 = np.array('2025-12-31',dtype='datetime64')\n",
    "print(data_2 - data_1)\n",
    "\n",
    "# Desafio 3 - Transforme a data e hora a seguir em um datetime64 do numpy ano 2030, mês 5, dia 25, 17 horas, 25 minutos, 35 segundos\n",
    "data_especifica = np.array('2030-05-25T17:25:35',dtype='datetime64[s]')\n",
    "data_especifica\n"
   ]
  }
 ],
 "metadata": {
  "kernelspec": {
   "display_name": "jhonatan",
   "language": "python",
   "name": "python3"
  },
  "language_info": {
   "codemirror_mode": {
    "name": "ipython",
    "version": 3
   },
   "file_extension": ".py",
   "mimetype": "text/x-python",
   "name": "python",
   "nbconvert_exporter": "python",
   "pygments_lexer": "ipython3",
   "version": "3.12.0"
  }
 },
 "nbformat": 4,
 "nbformat_minor": 2
}
