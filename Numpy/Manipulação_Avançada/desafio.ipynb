{
 "cells": [
  {
   "cell_type": "markdown",
   "metadata": {},
   "source": [
    "### Desafio 1 - A partir do array abaixo de 30 pesos diferentes, gere 3 arrays a partir de uma janela deslizante de 10 itens, coloque este resultado em uma variável chamada faixas_pesos e imprima o resultado com um laço for"
   ]
  },
  {
   "cell_type": "code",
   "execution_count": 7,
   "metadata": {},
   "outputs": [],
   "source": [
    "import numpy as np\n",
    "\n",
    "np.random.seed(1337)\n",
    "pesos = np.random.randint(50,120,30) # Array de pesos, mínimo 50, máximo 120, total de 30 pesos\n",
    "# [73, 111,  89,  89,  59,  56, 104, 73,  74,  51, 77, 56, 72, 116, 115, 110, 69, 101, 107, 117, 70, 58, 111, 59, 118,  56, 118, 96, 70, 68]"
   ]
  },
  {
   "cell_type": "markdown",
   "metadata": {},
   "source": [
    "\n",
    "#### Desafio 2 -  A partir da variável faixas_pesos, faça duas list comprehensions para resolver os seguintes problemas:\n",
    "* a) Encontre o desvio padrão de cada faixa de peso, guarde isso numa variável chamada desvio_padrao_pesos e imprima o resultado na tela\n",
    "\n",
    "\n",
    "* b) Encontre o valor máximo entre cada faixa de peso, guarde isso numa variável chamada pesos_maximo e imprima o resultado na tela\n"
   ]
  }
 ],
 "metadata": {
  "kernelspec": {
   "display_name": "jhonatan",
   "language": "python",
   "name": "python3"
  },
  "language_info": {
   "codemirror_mode": {
    "name": "ipython",
    "version": 3
   },
   "file_extension": ".py",
   "mimetype": "text/x-python",
   "name": "python",
   "nbconvert_exporter": "python",
   "pygments_lexer": "ipython3",
   "version": "3.12.0"
  }
 },
 "nbformat": 4,
 "nbformat_minor": 2
}
