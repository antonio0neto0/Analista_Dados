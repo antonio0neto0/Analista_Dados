{
 "cells": [
  {
   "cell_type": "code",
   "execution_count": 77,
   "metadata": {},
   "outputs": [
    {
     "name": "stdout",
     "output_type": "stream",
     "text": [
      "18.0\n",
      "18.285714285714285\n",
      "18.285714285714285\n",
      "20.714285714285715\n"
     ]
    },
    {
     "data": {
      "text/plain": [
       "[18.0, 18.285714285714285, 18.285714285714285, 20.714285714285715]"
      ]
     },
     "execution_count": 77,
     "metadata": {},
     "output_type": "execute_result"
    }
   ],
   "source": [
    "import numpy as np\n",
    "\n",
    "dados = np.array([1, 2, 3, 4, 5, 6])\n",
    "\n",
    "# Mútliplos índices\n",
    "indices = [0, 3, 5] # Acessar valores através de mútliplos índices \n",
    "dados[indices]\n",
    "\n",
    "# Janela deslizante - list compreheension\n",
    "\n",
    "np.random.seed(30)\n",
    "temperaturas = np.random.randint(5,35,30) # Gerar um array de 30 temperaturas aleatórias\n",
    "temperaturas # [10, 10, 18, 18, 25, 17, 28, 7, 26, 32, 22, 19,  8, 14, 12, 28, 6, 22, 18, 34,  8, 23, 23, 25, 25, 11, 17, 21, 11, 32]\n",
    "\n",
    "tamanho_janela = 7\n",
    "# [expressão for membro in iterável]\n",
    "janelas_temperatura = [temperaturas[i:i+tamanho_janela] for i in range(0,len(temperaturas) - tamanho_janela + 1, 7) ]\n",
    "\n",
    "# Qual foi a média de temp a cada semana(7 dias)\n",
    "for temp in janelas_temperatura:\n",
    "    print(np.mean(temp))\n",
    "\n",
    "# Formato list compreheension\n",
    "janelas_list_compreheension = [np.mean(valores) for valores in janelas_temperatura]\n",
    "janelas_list_compreheension"
   ]
  }
 ],
 "metadata": {
  "kernelspec": {
   "display_name": "jhonatan",
   "language": "python",
   "name": "python3"
  },
  "language_info": {
   "codemirror_mode": {
    "name": "ipython",
    "version": 3
   },
   "file_extension": ".py",
   "mimetype": "text/x-python",
   "name": "python",
   "nbconvert_exporter": "python",
   "pygments_lexer": "ipython3",
   "version": "3.12.0"
  }
 },
 "nbformat": 4,
 "nbformat_minor": 2
}
