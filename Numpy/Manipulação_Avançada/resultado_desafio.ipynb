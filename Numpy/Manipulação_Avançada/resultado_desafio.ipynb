{
 "cells": [
  {
   "cell_type": "code",
   "execution_count": 4,
   "metadata": {},
   "outputs": [
    {
     "name": "stdout",
     "output_type": "stream",
     "text": [
      "[ 73 111  89  89  59  56 104  73  74  51]\n",
      "[ 77  56  72 116 115 110  69 101 107 117]\n",
      "[ 70  58 111  59 118  56 118  96  70  68]\n",
      "[19.096858380372414, 21.840329667841555, 24.274266209300745]\n",
      "[111, 117, 118]\n"
     ]
    }
   ],
   "source": [
    "# Desafio 1 - A partir do array abaixo de 30 pesos diferentes, gere 3 arrays a partir de uma janela deslizante de 10 itens, coloque este resultado em uma variável chamada faixas_pesos e imprima o resultado com um laço for\n",
    "\n",
    "import numpy as np\n",
    "\n",
    "np.random.seed(1337)\n",
    "pesos = np.random.randint(50,120,30) # Array de pesos, mínimo 50, máximo 120, total de 30 pesos\n",
    "# [73, 111,  89,  89,  59,  56, 104,  73,  74,  51, 77,  56,  72, 116, 115, 110,  69, 101, 107, 117, 70, 58, 111,  59, 118,  56, 118,  96,  70,  68]\n",
    "janela = 10\n",
    "\n",
    "faixas_pesos = [pesos[i:i+janela] for i in range(0,len(pesos) - janela + 1, 10 )]\n",
    "for faixa in faixas_pesos:\n",
    "    print(faixa)\n",
    "\n",
    "# A partir da variável faixas_pesos, faça duas list comprehension para resolver os seguintes problemas:\n",
    "# Encontre o desvio padrão de cada faixa de peso, guarde isso numa variável chamada desvio_padrao_pesos e imprima o resultado na tela\n",
    "desvio_padrao_pesos = [np.std(faixa) for faixa in faixas_pesos]\n",
    "print(desvio_padrao_pesos)\n",
    "\n",
    "# Encontre o valor máximo entre cada faixa de peso, guarde isso numa variável chamada pesos_máximo e imprima o resultado na tela\n",
    "pesos_maximos = [np.max(faixa) for faixa in faixas_pesos]\n",
    "print(pesos_maximos)"
   ]
  }
 ],
 "metadata": {
  "kernelspec": {
   "display_name": "jhonatan",
   "language": "python",
   "name": "python3"
  },
  "language_info": {
   "codemirror_mode": {
    "name": "ipython",
    "version": 3
   },
   "file_extension": ".py",
   "mimetype": "text/x-python",
   "name": "python",
   "nbconvert_exporter": "python",
   "pygments_lexer": "ipython3",
   "version": "3.12.0"
  }
 },
 "nbformat": 4,
 "nbformat_minor": 2
}
