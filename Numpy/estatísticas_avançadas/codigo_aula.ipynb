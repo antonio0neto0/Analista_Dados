{
 "cells": [
  {
   "cell_type": "code",
   "execution_count": null,
   "metadata": {},
   "outputs": [
    {
     "name": "stdout",
     "output_type": "stream",
     "text": [
      "125\n",
      "[1 4 9]\n",
      "1.9459101490553132\n",
      "[0.         0.69314718 1.09861229 1.94591015]\n",
      "4.0\n",
      "[1. 2. 3. 4.]\n",
      "2.0591260281974\n"
     ]
    }
   ],
   "source": [
    "# Operações matemáticas avançadas de um jeito fácil!\n",
    "import numpy as np\n",
    "\n",
    "# Exponenciação x³ 5³\n",
    "print(np.power(5,3)) # valor individuais\n",
    "numeros = np.array([1,2,3]) # para arrays\n",
    "print(np.power(numeros,2))\n",
    "\n",
    "# Logarítimo natural\n",
    "# Para que potência eu preciso elevar o número e(aprox 2.71) para obter esse número?\n",
    "print(np.log(7))\n",
    "numeros = np.array([1,2,3,7]) # para arrays\n",
    "print(np.log(numeros))\n",
    "\n",
    "# Raíz Quadrada (qual número, multiplicado a sí mesmo, resultado em determinado valor)\n",
    "print(np.sqrt(16))\n",
    "numeros = np.array([1, 4, 9, 16])\n",
    "print(np.sqrt(numeros))\n",
    "\n",
    "# Desvio Padrão (qual distante da média os valores estão)\n",
    "dados = np.array([50, 50, 47, 53, 52]) \n",
    "print(np.std(dados)) #pode variar tanto para  +2.05 ou -2.05\n",
    "\n"
   ]
  }
 ],
 "metadata": {
  "kernelspec": {
   "display_name": "neto",
   "language": "python",
   "name": "python3"
  },
  "language_info": {
   "codemirror_mode": {
    "name": "ipython",
    "version": 3
   },
   "file_extension": ".py",
   "mimetype": "text/x-python",
   "name": "python",
   "nbconvert_exporter": "python",
   "pygments_lexer": "ipython3",
   "version": "3.13.2"
  }
 },
 "nbformat": 4,
 "nbformat_minor": 2
}
