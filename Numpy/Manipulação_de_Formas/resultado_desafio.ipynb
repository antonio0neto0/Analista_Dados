{
 "cells": [
  {
   "cell_type": "code",
   "execution_count": null,
   "metadata": {},
   "outputs": [],
   "source": [
    "# Desafio 1: Crie um array com valores de 1 a 8 e depois o transforme em uma matriz 4x2.\n",
    "import numpy as np\n",
    "\n",
    "novo_array = np.arange(1,9)\n",
    "print('novo array: ',novo_array.reshape(4,2))\n",
    "\n",
    "# Desafio 2: \"Dada a matriz abaixo, transponha-a.\"\n",
    "matriz = np.array([[1, 2, 3], [4, 5, 6]])\n",
    "nova_matriz_transposta = matriz.T\n",
    "\n",
    "# Desafio 3: - Verifique o shape do array transposto no Desafio 2.\"\n",
    "print(f'Shape nova matriz: {nova_matriz_transposta.shape}')"
   ]
  }
 ],
 "metadata": {
  "kernelspec": {
   "display_name": "jhonatan",
   "language": "python",
   "name": "python3"
  },
  "language_info": {
   "codemirror_mode": {
    "name": "ipython",
    "version": 3
   },
   "file_extension": ".py",
   "mimetype": "text/x-python",
   "name": "python",
   "nbconvert_exporter": "python",
   "pygments_lexer": "ipython3",
   "version": "3.12.0"
  }
 },
 "nbformat": 4,
 "nbformat_minor": 2
}
