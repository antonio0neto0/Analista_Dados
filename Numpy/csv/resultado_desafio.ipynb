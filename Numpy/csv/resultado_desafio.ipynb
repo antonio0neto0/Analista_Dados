{
 "cells": [
  {
   "cell_type": "code",
   "execution_count": null,
   "metadata": {},
   "outputs": [],
   "source": [
    "\n",
    "import numpy as np \n",
    "\n",
    "# Uso para mundo real\n",
    "'''\n",
    "Você tem um arquivo chamado 'pontuacoes.csv' com as pontuações de um jogo. Cada linha do arquivo representa um jogador e suas respectivas pontuações ao longo de 5 jogos. Leia este arquivo e encontre o jogador com a maior pontuação média.\n",
    "'''\n",
    "pontuacoes = np.loadtxt('./pontuacoes.csv',delimiter=',')\n",
    "medias = np.median(pontuacoes,axis=1)\n",
    "top_player = np.argmax(medias)\n",
    "print(f'O jogador com a melhor média de {medias[top_player]} é o jogador com o índice {top_player}')\n",
    "print(f'O jogador com a melhor média de {medias[top_player]} é o jogador da linha {top_player+1}')"
   ]
  }
 ],
 "metadata": {
  "kernelspec": {
   "display_name": "jhonatan",
   "language": "python",
   "name": "python3"
  },
  "language_info": {
   "codemirror_mode": {
    "name": "ipython",
    "version": 3
   },
   "file_extension": ".py",
   "mimetype": "text/x-python",
   "name": "python",
   "nbconvert_exporter": "python",
   "pygments_lexer": "ipython3",
   "version": "3.12.0"
  }
 },
 "nbformat": 4,
 "nbformat_minor": 2
}
