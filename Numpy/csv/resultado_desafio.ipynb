{
 "cells": [
  {
   "cell_type": "code",
   "execution_count": null,
   "metadata": {},
   "outputs": [
    {
     "name": "stdout",
     "output_type": "stream",
     "text": [
      "O jogador com a melhor média de 113.0 é o jogador com o índice 2\n",
      "O jogador com a melhor média de 113.0 é o jogador da linha 3\n"
     ]
    }
   ],
   "source": [
    "\n",
    "import numpy as np \n",
    "\n",
    "# Uso para mundo real\n",
    "'''\n",
    "Você tem um arquivo chamado 'pontuacoes.csv' com as pontuações de um jogo. \n",
    "Cada linha do arquivo representa um jogador e suas respectivas pontuações ao longo de 5 jogos. \n",
    "Leia este arquivo e encontre o jogador com a maior pontuação média.\n",
    "'''\n",
    "pontuacoes = np.loadtxt('./pontuacoes.csv',delimiter=',')\n",
    "medias = np.median(pontuacoes,axis=1) # 1 = linhas e 0= colunas\n",
    "top_player = np.argmax(medias)\n",
    "print(f'O jogador com a melhor média de {medias[top_player]} é o jogador com o índice {top_player}')\n",
    "print(f'O jogador com a melhor média de {medias[top_player]} é o jogador da linha {top_player+1}')"
   ]
  }
 ],
 "metadata": {
  "kernelspec": {
   "display_name": "neto",
   "language": "python",
   "name": "python3"
  },
  "language_info": {
   "codemirror_mode": {
    "name": "ipython",
    "version": 3
   },
   "file_extension": ".py",
   "mimetype": "text/x-python",
   "name": "python",
   "nbconvert_exporter": "python",
   "pygments_lexer": "ipython3",
   "version": "3.13.2"
  }
 },
 "nbformat": 4,
 "nbformat_minor": 2
}
