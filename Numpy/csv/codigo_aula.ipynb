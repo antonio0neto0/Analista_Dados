{
 "cells": [
  {
   "cell_type": "code",
   "execution_count": 90,
   "metadata": {},
   "outputs": [
    {
     "name": "stdout",
     "output_type": "stream",
     "text": [
      "[[  1. 100.   2.]\n",
      " [  2. 400.   5.]\n",
      " [  3. 200.   7.]]\n"
     ]
    }
   ],
   "source": [
    "# Leitura e Criação de arquivos com numpy\n",
    "import numpy as np\n",
    "\n",
    "# Ler um arquivo\n",
    "dados = np.loadtxt('./dados.csv',delimiter=',')\n",
    "vendas = np.loadtxt('./vendas.csv',delimiter=',',skiprows=1)\n",
    "print(vendas)\n",
    "\n",
    "# Criar\n",
    "array_exemplo = np.array([[10, 11.234567, 12], [13, 14.63, 15], [16.555, 17, 18]])\n",
    "np.savetxt('./padrao.csv',array_exemplo,delimiter=',')\n",
    "np.savetxt('./inteiros.csv',array_exemplo,delimiter=',',fmt='%d')\n",
    "np.savetxt('./decimais_2casas_dec.csv',array_exemplo,delimiter=',',fmt='%.2f')\n",
    "np.savetxt('./decimais_3casas_dec.csv',array_exemplo,delimiter=',',fmt='%.6f')\n",
    "\n",
    "# Código do desafio(pontuações de jogadores) dentro do arquivo 'resultado_desafio.ipynb'\n",
    "\n",
    "\n",
    "\n",
    "\n"
   ]
  }
 ],
 "metadata": {
  "kernelspec": {
   "display_name": "jhonatan",
   "language": "python",
   "name": "python3"
  },
  "language_info": {
   "codemirror_mode": {
    "name": "ipython",
    "version": 3
   },
   "file_extension": ".py",
   "mimetype": "text/x-python",
   "name": "python",
   "nbconvert_exporter": "python",
   "pygments_lexer": "ipython3",
   "version": "3.12.0"
  }
 },
 "nbformat": 4,
 "nbformat_minor": 2
}
