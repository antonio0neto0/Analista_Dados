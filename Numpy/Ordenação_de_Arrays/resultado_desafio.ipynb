{
 "cells": [
  {
   "cell_type": "code",
   "execution_count": 12,
   "metadata": {},
   "outputs": [
    {
     "name": "stdout",
     "output_type": "stream",
     "text": [
      "[95 90 88 85 78 76]\n",
      "[[ 2  3  5]\n",
      " [ 6  4  6]\n",
      " [ 8  6 10]]\n",
      "Posição da pessoa mais baixa: 2\n",
      "Posição da pessoa mais alta: 3\n"
     ]
    }
   ],
   "source": [
    "import numpy as np\n",
    "# Desafio 1: Dado o array de notas, ordene-o em ordem decrescente.\n",
    "notas = np.array([85, 90, 78, 88, 76, 95])\n",
    "notas_ordenadas = np.sort(notas)[::-1]\n",
    "print(notas_ordenadas)\n",
    "\n",
    "# Desafio 2: Crie uma matriz 3x3 com valores aleatórios entre 1 e 10. Ordene essa matriz pelo eixo das colunas.\n",
    "np.random.seed(30)\n",
    "matriz = np.random.randint(1, 11, (3, 3))\n",
    "print(np.sort(matriz, axis=0))\n",
    "\n",
    "# Desafio 3: Dado o array de alturas , use argsort() para descobrir a posição da pessoa mais alta e da pessoa mais baixa.\n",
    "alturas = np.array([1.75, 1.82, 1.60, 1.90, 1.65])\n",
    "ordem_alturas = np.argsort(alturas)\n",
    "print(\"Posição da pessoa mais baixa:\", ordem_alturas[0])\n",
    "print(\"Posição da pessoa mais alta:\", ordem_alturas[-1])\n",
    "\n"
   ]
  }
 ],
 "metadata": {
  "kernelspec": {
   "display_name": "jhonatan",
   "language": "python",
   "name": "python3"
  },
  "language_info": {
   "codemirror_mode": {
    "name": "ipython",
    "version": 3
   },
   "file_extension": ".py",
   "mimetype": "text/x-python",
   "name": "python",
   "nbconvert_exporter": "python",
   "pygments_lexer": "ipython3",
   "version": "3.12.0"
  }
 },
 "nbformat": 4,
 "nbformat_minor": 2
}
