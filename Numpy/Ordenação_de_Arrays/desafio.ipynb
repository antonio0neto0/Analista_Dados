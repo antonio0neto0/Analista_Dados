{
 "cells": [
  {
   "cell_type": "code",
   "execution_count": 5,
   "metadata": {},
   "outputs": [],
   "source": [
    "import numpy as np\n",
    "# Desafio 1: Dado o array de notas, ordene-o em ordem decrescente.\n",
    "notas = np.array([85, 90, 78, 88, 76, 95])\n",
    "\n",
    "# Desafio 2: Crie uma matriz 3x3 com valores aleatórios entre 1 e 10. Ordene essa matriz pelo eixo das colunas.\n",
    "\n",
    "# Desafio 3: Dado o array de alturas , use argsort() para descobrir a posição da pessoa mais alta e da pessoa mais baixa.\n",
    "alturas = np.array([1.75, 1.82, 1.60, 1.90, 1.65])"
   ]
  }
 ],
 "metadata": {
  "kernelspec": {
   "display_name": "jhonatan",
   "language": "python",
   "name": "python3"
  },
  "language_info": {
   "codemirror_mode": {
    "name": "ipython",
    "version": 3
   },
   "file_extension": ".py",
   "mimetype": "text/x-python",
   "name": "python",
   "nbconvert_exporter": "python",
   "pygments_lexer": "ipython3",
   "version": "3.12.0"
  }
 },
 "nbformat": 4,
 "nbformat_minor": 2
}
