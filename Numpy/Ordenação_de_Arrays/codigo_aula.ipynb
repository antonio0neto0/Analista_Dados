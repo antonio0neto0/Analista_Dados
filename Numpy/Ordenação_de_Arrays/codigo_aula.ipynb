{
 "cells": [
  {
   "cell_type": "code",
   "execution_count": 34,
   "metadata": {},
   "outputs": [
    {
     "name": "stdout",
     "output_type": "stream",
     "text": [
      "Matriz ord por linhas: [[ 5  6  7]\n",
      " [ 2  9 10]\n",
      " [ 1  3  8]]\n",
      "Matriz ord por linhas desc: [[ 7  6  5]\n",
      " [10  9  2]\n",
      " [ 8  3  1]]\n",
      "Matriz ord por colunas: [[ 1  7  3]\n",
      " [ 2  8  6]\n",
      " [ 5 10  9]]\n",
      "Matriz ord por colunas desc: [[ 5 10  9]\n",
      " [ 2  8  6]\n",
      " [ 1  7  3]]\n"
     ]
    },
    {
     "data": {
      "text/plain": [
       "array([2, 4, 1, 3, 0], dtype=int64)"
      ]
     },
     "execution_count": 34,
     "metadata": {},
     "output_type": "execute_result"
    }
   ],
   "source": [
    "import numpy as np\n",
    "\n",
    "# Ordenação de arrays\n",
    "valores = np.array([32, 10, 5, 80, 90, 30])\n",
    "# Modificar array original\n",
    "valores.sort() # Crescente\n",
    "valores = valores[::-1] # Decrescente\n",
    "\n",
    "# Ordenar, sem modificar array original\n",
    "idades = np.array([25, 30, 20, 40, 35])\n",
    "idades_ord_cres = np.sort(idades)\n",
    "idades_ord_descre = np.sort(idades)[::-1]\n",
    "idades_ord_descre\n",
    "\n",
    "matriz = np.array([[5, 7, 6],\n",
    "                   [2, 10, 9],\n",
    "                   [1, 8, 3]])\n",
    "\n",
    "matriz_ord_linhas = np.sort(matriz,axis=1) # linha\n",
    "matriz_ord_linhas_desc = np.flip(matriz_ord_linhas,axis=1)\n",
    "\n",
    "matriz_ord_cols = np.sort(matriz,axis=0) # Coluna\n",
    "matriz_ord_cols_desc = np.flip(matriz_ord_cols,axis=0)\n",
    "\n",
    "print(f'Matriz ord por linhas: {matriz_ord_linhas}')\n",
    "print(f'Matriz ord por linhas desc: {matriz_ord_linhas_desc}')\n",
    "\n",
    "print(f'Matriz ord por colunas: {matriz_ord_cols}')\n",
    "print(f'Matriz ord por colunas desc: {matriz_ord_cols_desc}')\n",
    "\n",
    "\n",
    "# Como retornar apenas o índice de um array de forma ordenada\n",
    "pontos = np.array([100, 90, 80, 95, 85])\n",
    "indices_pontos_ord = np.argsort(pontos)\n",
    "indices_pontos_ord"
   ]
  }
 ],
 "metadata": {
  "kernelspec": {
   "display_name": "jhonatan",
   "language": "python",
   "name": "python3"
  },
  "language_info": {
   "codemirror_mode": {
    "name": "ipython",
    "version": 3
   },
   "file_extension": ".py",
   "mimetype": "text/x-python",
   "name": "python",
   "nbconvert_exporter": "python",
   "pygments_lexer": "ipython3",
   "version": "3.12.0"
  }
 },
 "nbformat": 4,
 "nbformat_minor": 2
}
