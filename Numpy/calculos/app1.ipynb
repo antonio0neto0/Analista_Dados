{
 "cells": [
  {
   "cell_type": "code",
   "execution_count": null,
   "metadata": {},
   "outputs": [
    {
     "name": "stdout",
     "output_type": "stream",
     "text": [
      "tipo de dados: de um array float64\n",
      "shape do array: (2, 3)\n",
      "quantidade de itens: 6\n",
      "dimensão do array: 2\n"
     ]
    }
   ],
   "source": [
    "import numpy as np\n",
    "\n",
    "numeros = np.array([0.5, 1.7, 2.3])\n",
    "matriz = np.array([[1,2,3],[4,5,6]])\n",
    "\n",
    "print(f'tipo de dados: de um array {numeros.dtype}') # tipo de dado\n",
    "print(f'shape do array: {matriz.shape}') # shape(formato) 2 linhas 3 colunas\n",
    "print(f'quantidade de itens: {matriz.size}') # tamanho(quantidade de itens)\n",
    "print(f'dimensão do array: {matriz.ndim}') # dimensão\n"
   ]
  }
 ],
 "metadata": {
  "kernelspec": {
   "display_name": "neto",
   "language": "python",
   "name": "python3"
  },
  "language_info": {
   "codemirror_mode": {
    "name": "ipython",
    "version": 3
   },
   "file_extension": ".py",
   "mimetype": "text/x-python",
   "name": "python",
   "nbconvert_exporter": "python",
   "pygments_lexer": "ipython3",
   "version": "3.13.2"
  }
 },
 "nbformat": 4,
 "nbformat_minor": 2
}
