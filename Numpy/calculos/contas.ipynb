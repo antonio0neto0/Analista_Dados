{
 "cells": [
  {
   "cell_type": "markdown",
   "metadata": {},
   "source": [
    "Operações matemáticas com Arrays"
   ]
  },
  {
   "cell_type": "code",
   "execution_count": 1,
   "metadata": {},
   "outputs": [
    {
     "name": "stdout",
     "output_type": "stream",
     "text": [
      "[50 70 90]\n",
      "[-30 -30 -30]\n",
      "[ 400 1000 1800]\n",
      "[0.25 0.4  0.5 ]\n",
      "[ 400 1000 1800]\n"
     ]
    }
   ],
   "source": [
    "import numpy as np\n",
    "\n",
    "pesos_1 = np.array([10, 20, 30])\n",
    "pesos_2 = np.array([40, 50, 60])\n",
    "\n",
    "# soma\n",
    "print(pesos_1 + pesos_2)\n",
    "\n",
    "# subtração\n",
    "print(pesos_1 - pesos_2)\n",
    "\n",
    "# multiplicação\n",
    "print(pesos_1 * pesos_2)\n",
    "\n",
    "# divisão\n",
    "print(pesos_1 / pesos_2)\n",
    "\n",
    "# multiplicação\n",
    "print(pesos_1 * pesos_2)"
   ]
  }
 ],
 "metadata": {
  "kernelspec": {
   "display_name": "neto",
   "language": "python",
   "name": "python3"
  },
  "language_info": {
   "codemirror_mode": {
    "name": "ipython",
    "version": 3
   },
   "file_extension": ".py",
   "mimetype": "text/x-python",
   "name": "python",
   "nbconvert_exporter": "python",
   "pygments_lexer": "ipython3",
   "version": "3.13.2"
  }
 },
 "nbformat": 4,
 "nbformat_minor": 2
}
