{
 "cells": [
  {
   "cell_type": "markdown",
   "metadata": {},
   "source": [
    "### Desafio 1\n",
    "Tente criar um array com os números de 4 a 6 e imprima-o no console\n",
    "* Dica: Use o np.array\n",
    "\n"
   ]
  },
  {
   "cell_type": "markdown",
   "metadata": {},
   "source": [
    "### Desafio 2\n",
    "Crie um array bidimensional 2x2, onde a primeira linha tem os números 1 e 2 e a segunda linha tem os números 3 e 4.\n",
    "* Dica: Lembre-se da estrutura de listas dentro de listas para criar matrizes."
   ]
  }
 ],
 "metadata": {
  "language_info": {
   "name": "python"
  }
 },
 "nbformat": 4,
 "nbformat_minor": 2
}
