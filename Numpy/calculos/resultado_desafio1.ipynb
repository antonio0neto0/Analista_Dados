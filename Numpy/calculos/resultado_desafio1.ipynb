{
 "cells": [
  {
   "cell_type": "markdown",
   "metadata": {},
   "source": [
    "### Desafio 1\n",
    "Tente criar um array com os números de 4 a 6 e imprima-o no console\n",
    "* Dica: Use o np.array\n",
    "\n"
   ]
  },
  {
   "cell_type": "code",
   "execution_count": 1,
   "metadata": {},
   "outputs": [
    {
     "data": {
      "text/plain": [
       "array([4, 5, 6])"
      ]
     },
     "execution_count": 1,
     "metadata": {},
     "output_type": "execute_result"
    }
   ],
   "source": [
    "import numpy as np\n",
    "numeros = np.array([4, 5, 6])\n",
    "numeros\n"
   ]
  },
  {
   "cell_type": "markdown",
   "metadata": {},
   "source": [
    "### Desafio 2\n",
    "Crie um array bidimensional 2x2, onde a primeira linha tem os números 1 e 2 e a segunda linha tem os números 3 e 4.\n",
    "* Dica: Lembre-se da estrutura de listas dentro de listas para criar matrizes."
   ]
  },
  {
   "cell_type": "code",
   "execution_count": 2,
   "metadata": {},
   "outputs": [
    {
     "data": {
      "text/plain": [
       "array([[1, 2],\n",
       "       [3, 4]])"
      ]
     },
     "execution_count": 2,
     "metadata": {},
     "output_type": "execute_result"
    }
   ],
   "source": [
    "import numpy as np\n",
    "matriz_2x2 = np.array([[1, 2], [3, 4]])\n",
    "matriz_2x2\n"
   ]
  }
 ],
 "metadata": {
  "kernelspec": {
   "display_name": "neto",
   "language": "python",
   "name": "python3"
  },
  "language_info": {
   "codemirror_mode": {
    "name": "ipython",
    "version": 3
   },
   "file_extension": ".py",
   "mimetype": "text/x-python",
   "name": "python",
   "nbconvert_exporter": "python",
   "pygments_lexer": "ipython3",
   "version": "3.13.2"
  }
 },
 "nbformat": 4,
 "nbformat_minor": 2
}
