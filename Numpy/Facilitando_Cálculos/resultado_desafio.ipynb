{
 "cells": [
  {
   "cell_type": "code",
   "execution_count": 3,
   "metadata": {},
   "outputs": [
    {
     "name": "stdout",
     "output_type": "stream",
     "text": [
      "[20 30 40 50 60]\n",
      "[[ 0  5]\n",
      " [10 15]\n",
      " [20 25]]\n",
      "[[10 30]\n",
      " [30 60]\n",
      " [50 90]]\n"
     ]
    }
   ],
   "source": [
    "import numpy as np \n",
    "\n",
    "# Desafio 1 - Dado o seguinte array, some o valor 10 a cada elemento usando broadcasting.\n",
    "array = np.array([10, 20, 30, 40, 50])\n",
    "print(array + 10)\n",
    "\n",
    "# Desafio 2 - Dada a matriz abaixo, subtraia o array [5, 5] de cada linha usando broadcasting.\n",
    "matriz = np.array([[5, 10], [15, 20], [25, 30]])\n",
    "array1 = [5, 5]\n",
    "print(matriz - array1)\n",
    "\n",
    "# Desafio 3 - Multiplique cada coluna da matriz abaixo pelo array [2, 3].\n",
    "matriz = np.array([[5, 10], [15, 20], [25, 30]])\n",
    "array2 = [2, 3]\n",
    "print(matriz * array2)\n"
   ]
  }
 ],
 "metadata": {
  "kernelspec": {
   "display_name": "neto",
   "language": "python",
   "name": "python3"
  },
  "language_info": {
   "codemirror_mode": {
    "name": "ipython",
    "version": 3
   },
   "file_extension": ".py",
   "mimetype": "text/x-python",
   "name": "python",
   "nbconvert_exporter": "python",
   "pygments_lexer": "ipython3",
   "version": "3.13.2"
  }
 },
 "nbformat": 4,
 "nbformat_minor": 2
}
