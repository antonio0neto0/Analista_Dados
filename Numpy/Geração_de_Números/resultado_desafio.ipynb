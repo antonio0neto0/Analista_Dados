{
 "cells": [
  {
   "cell_type": "code",
   "execution_count": 2,
   "metadata": {},
   "outputs": [
    {
     "name": "stdout",
     "output_type": "stream",
     "text": [
      "Valores pares: [ 50  52  54  56  58  60  62  64  66  68  70  72  74  76  78  80  82  84\n",
      "  86  88  90  92  94  96  98 100]\n",
      "Múltiplos de 5: [ 5 10 15 20 25 30 35 40 45 50 55]\n",
      "Valores uniformemente distribuídos: [100.         111.11111111 122.22222222 133.33333333 144.44444444\n",
      " 155.55555556 166.66666667 177.77777778 188.88888889 200.        ]\n",
      "Matriz 5x5 aleatória: [[ 7 21  9 39 18]\n",
      " [ 4 25 14 50  9]\n",
      " [26  2 20 28 47]\n",
      " [ 7 44  8 47 35]\n",
      " [14 17 36 50 40]]\n",
      "Valores aleatórios fixos: [ 7 15 11  8  7 19 11 11  4  8  3  2 12  6  2]\n",
      "Letras embaralhadas: ['c', 'b', 'e', 'a', 'd']\n",
      "Números originais: [ 1  2  3  4  5  6  7  8  9 10 11 12 13 14 15]\n",
      "Números permutados: [ 2 14  5 11 15  8  7  4  3  1  9 12 13  6 10]\n"
     ]
    }
   ],
   "source": [
    "import numpy as np\n",
    "\n",
    "# Desafio 1: Arrays Sequenciais\n",
    "# Valores pares entre 50 e 100\n",
    "valores_pares = np.arange(50, 101, 2)\n",
    "print(f\"Valores pares: {valores_pares}\")\n",
    "\n",
    "# Múltiplos de 5 entre 5 e 55\n",
    "multiplos_cinco = np.arange(5, 56, 5)\n",
    "print(f\"Múltiplos de 5: {multiplos_cinco}\")\n",
    "\n",
    "# Desafio 2: Distribuição Uniforme\n",
    "# 10 valores uniformemente distribuídos entre 100 e 200\n",
    "uniformes = np.linspace(100, 200, 10)\n",
    "print(f\"Valores uniformemente distribuídos: {uniformes}\")\n",
    "\n",
    "# Desafio 3: Dados Aleatórios\n",
    "# Matriz 5x5 com valores aleatórios entre 1 e 50\n",
    "matriz_aleatoria = np.random.randint(1, 51, size=(5, 5))\n",
    "print(f\"Matriz 5x5 aleatória: {matriz_aleatoria}\")\n",
    "\n",
    "# Array de 15 valores aleatórios, fixando a seed\n",
    "np.random.seed(42)\n",
    "valores_aleatorios_fixos = np.random.randint(1, 20, 15)\n",
    "print(f\"Valores aleatórios fixos: {valores_aleatorios_fixos}\")\n",
    "\n",
    "# Desafio 5: Permutação\n",
    "# Embaralhar letras do alfabeto\n",
    "alfabeto = ['a', 'b', 'c', 'd', 'e']\n",
    "np.random.shuffle(alfabeto)\n",
    "print(f\"Letras embaralhadas: {alfabeto}\")\n",
    "\n",
    "# Permutar números de 1 a 15\n",
    "numeros = np.arange(1, 16)\n",
    "numeros_permutados = np.random.permutation(numeros)\n",
    "print(f\"Números originais: {numeros}\")\n",
    "print(f\"Números permutados: {numeros_permutados}\")\n"
   ]
  }
 ],
 "metadata": {
  "kernelspec": {
   "display_name": "jhonatan",
   "language": "python",
   "name": "python3"
  },
  "language_info": {
   "codemirror_mode": {
    "name": "ipython",
    "version": 3
   },
   "file_extension": ".py",
   "mimetype": "text/x-python",
   "name": "python",
   "nbconvert_exporter": "python",
   "pygments_lexer": "ipython3",
   "version": "3.12.0"
  }
 },
 "nbformat": 4,
 "nbformat_minor": 2
}
