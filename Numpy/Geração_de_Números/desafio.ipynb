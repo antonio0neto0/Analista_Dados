{
 "cells": [
  {
   "cell_type": "markdown",
   "metadata": {},
   "source": [
    "### Desafio 1 - Arrays Sequenciais:\n",
    "\n",
    "* Crie um array com valores pares entre 50 e 100.\n",
    "* Gere um array com múltiplos de 5 entre 5 e 55.\n",
    "\n",
    "#### Desafio 2 - Distribuição Uniforme:\n",
    "\n",
    "* Crie um array com 10 valores uniformemente distribuídos entre 100 e 200.\n",
    "\n",
    "### Desafio 3 - Dados Aleatórios:\n",
    "\n",
    "* Gere uma matriz 5x5 com valores aleatórios entre 1 e 50.\n",
    "* Crie um array de 15 valores aleatórios, garantindo que o mesmo conjunto de números seja gerado toda vez que o código é executado.\n",
    "\n",
    "### Desafio 4 - Permutação:\n",
    "\n",
    "* Dado um array de letras do alfabeto, embaralhe-as e imprima o resultado.\n",
    "```python\n",
    "alfabeto = ['a','b','c','d','e']\n",
    "```\n",
    "* Crie um array de números de 1 a 15. Gere uma nova permutação deste array sem modificar o original."
   ]
  }
 ],
 "metadata": {
  "kernelspec": {
   "display_name": "jhonatan",
   "language": "python",
   "name": "python3"
  },
  "language_info": {
   "codemirror_mode": {
    "name": "ipython",
    "version": 3
   },
   "file_extension": ".py",
   "mimetype": "text/x-python",
   "name": "python",
   "nbconvert_exporter": "python",
   "pygments_lexer": "ipython3",
   "version": "3.12.0"
  }
 },
 "nbformat": 4,
 "nbformat_minor": 2
}
