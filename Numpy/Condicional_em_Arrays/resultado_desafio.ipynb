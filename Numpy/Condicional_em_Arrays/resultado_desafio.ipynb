{
 "cells": [
  {
   "cell_type": "code",
   "execution_count": 11,
   "metadata": {},
   "outputs": [
    {
     "name": "stdout",
     "output_type": "stream",
     "text": [
      "[3, 6, 9]\n",
      "[3, 9, 15]\n",
      "[3 6 9]\n",
      "[1 4]\n"
     ]
    },
    {
     "data": {
      "text/plain": [
       "array([ 5, 10, 15, 30])"
      ]
     },
     "execution_count": 11,
     "metadata": {},
     "output_type": "execute_result"
    }
   ],
   "source": [
    "import numpy as np\n",
    "\n",
    "# Desafio 1 - Dado o array abaixo, exiba os 3 primeiros elementos\n",
    "numeros = [3, 6, 9, 12, 15]\n",
    "print(numeros[:3])\n",
    "\n",
    "# Desafio 2 - Dado o array abaixo, exiba os números ímpares usando fatiamento\n",
    "outros_numeros = [3, 6, 9, 12, 15]\n",
    "print(outros_numeros[::2])\n",
    "\n",
    "# Desafio 3 - Dada a matriz abaixo, exiba os valores da terceira coluna de todas as linhas\n",
    "matriz_desafio = np.array([[1, 2, 3], [4, 5, 6], [7, 8, 9]])\n",
    "print(matriz_desafio[0:3,2])\n",
    "\n",
    "# Desafio 4 - Da matriz abaixo, exiba os elementos das duas primeiras linhas e da primeira coluna\n",
    "matriz_desafio2 = np.array([[1, 2, 3], [4, 5, 6], [7, 8, 9]])\n",
    "print(matriz_desafio[0:2,0])\n",
    "\n",
    "# Desafio 5 - Dado o array abaixo, exiba os números que são menores que 20 ou maiores que 25.\n",
    "valores = np.array([5, 10, 15, 20, 25, 30])\n",
    "valores[(valores < 20) | (valores > 25)]\n"
   ]
  }
 ],
 "metadata": {
  "kernelspec": {
   "display_name": "jhonatan",
   "language": "python",
   "name": "python3"
  },
  "language_info": {
   "codemirror_mode": {
    "name": "ipython",
    "version": 3
   },
   "file_extension": ".py",
   "mimetype": "text/x-python",
   "name": "python",
   "nbconvert_exporter": "python",
   "pygments_lexer": "ipython3",
   "version": "3.12.0"
  }
 },
 "nbformat": 4,
 "nbformat_minor": 2
}
