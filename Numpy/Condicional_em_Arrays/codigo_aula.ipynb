{
 "cells": [
  {
   "cell_type": "code",
   "execution_count": 2,
   "metadata": {},
   "outputs": [
    {
     "name": "stdout",
     "output_type": "stream",
     "text": [
      "[10 30 50 70]\n"
     ]
    },
    {
     "data": {
      "text/plain": [
       "array([10, 40])"
      ]
     },
     "execution_count": 2,
     "metadata": {},
     "output_type": "execute_result"
    }
   ],
   "source": [
    "# Indexação e Fatiamento com Numpy\n",
    "import numpy as np\n",
    "\n",
    "numeros = np.array([2, 4, 6, 8, 10])\n",
    "numeros[3] # acessar por índice\n",
    "numeros[-1] # acessar último valor\n",
    "\n",
    "numeros[2:4] # fatiando valores, com base no índice\n",
    "numeros[1:2+1] # fatiando valores, com base no índice\n",
    "numeros[1:] # Para ir de um índice específico até o último item\n",
    "numeros[:] # Para incluir todos os valores\n",
    "\n",
    "# numeros[indice_inicial:indice_final]\n",
    "\n",
    "# iniciar no primeiro item e ir até o final, extraindo os valor a cada 2 índices\n",
    "numeros2 = np.array([10, 20, 30, 40, 50, 60, 70])\n",
    "print(numeros2[::2])\n",
    "# array[indice_inicial:indice_final:pulo]\n",
    "numeros2[0:5:2]\n",
    "\n",
    "# Índices em matrizes\n",
    "\n",
    "matriz_exemplo = np.array([[1, 2, 3],\n",
    "                           [4, 5, 6],\n",
    "                           [7, 8, 9]])\n",
    "matriz_exemplo[1,1]\n",
    "\n",
    "# Fatiamento em matrizes\n",
    "# matriz[[indice_linha_inicial:indice_linha_final, indice_col_inicial:indice_col_final]]\n",
    "\n",
    "matriz_exemplo[0:2,0:2]\n",
    "\n",
    "# Fatiamento condicional\n",
    "valores = np.array([10, 20, 30, 40, 50])\n",
    "valores[(valores > 20) & (valores < 50)]\n",
    "valores[(valores == 10) | (valores == 40)]"
   ]
  }
 ],
 "metadata": {
  "kernelspec": {
   "display_name": "neto",
   "language": "python",
   "name": "python3"
  },
  "language_info": {
   "codemirror_mode": {
    "name": "ipython",
    "version": 3
   },
   "file_extension": ".py",
   "mimetype": "text/x-python",
   "name": "python",
   "nbconvert_exporter": "python",
   "pygments_lexer": "ipython3",
   "version": "3.13.2"
  }
 },
 "nbformat": 4,
 "nbformat_minor": 2
}
