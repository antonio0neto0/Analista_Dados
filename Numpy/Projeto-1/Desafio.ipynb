{
 "cells": [
  {
   "cell_type": "code",
   "execution_count": 2,
   "id": "ed4b7ead",
   "metadata": {},
   "outputs": [
    {
     "name": "stdout",
     "output_type": "stream",
     "text": [
      "Dias Chuvosos (preciptação > 10): 49 dias\n",
      "[np.float64(172.0), np.float64(208.0), np.float64(201.0), np.float64(129.0), np.float64(78.0), np.float64(92.0), np.float64(106.0), np.float64(127.0), np.float64(145.0), np.float64(130.0), np.float64(130.0), np.float64(159.0), np.float64(13.0)]\n"
     ]
    }
   ],
   "source": [
    "import numpy as np\n",
    "\n",
    "# Parte 1\n",
    "# Carregar os dados\n",
    "dados = np.loadtxt(\"dados_climaticos.csv\", delimiter=\",\", skiprows=1)\n",
    "media_temp = np.mean(dados[:,0]) # 0 pq é a coluna da temperatura\n",
    "# print(media_temp)\n",
    "desvio_temp = np.std(dados[:,0])\n",
    "# print(desvio_temp)\n",
    "media_precip = np.mean(dados[:,1])\n",
    "# print(media_precip)\n",
    "desvio_precip = np.std(dados[:,1])\n",
    "# print(f\"Desvio Padrão da Preciptação : {desvio_precip:.2f}\") # :.2f deixa com 2 casas depois da virgula\n",
    "\n",
    "# Parte 2 - Dias Chuvosos\n",
    "dias_chuvosos = np.sum((dados[:,1] >10))\n",
    "print(f\"Dias Chuvosos (preciptação > 10): {dias_chuvosos} dias\")\n",
    "\n",
    "# Parte 3 Variaçao de Temperatura\n",
    "#Temp max - temp min\n",
    "#vpor cada 30 dias\n",
    "# sobre todos os meses\n",
    "amplitudes = [np.max(dados[i:i+30,0]) - np.min(dados[i:i+30,0]) for i in range (0,365,30)]\n",
    "# print(amplitudes)\n",
    "\n",
    "# parte 4 Preciptação Mensal\n",
    "#Encontrar e equebaros dados em 30 dias\n",
    "#calcular a soma de cada bloca de 30 dias\n",
    "#fazer esse processo para 365 dias\n",
    "precip_mensal = [np.sum(dados[i:i+30,1]) for i in range(0,365,30)]\n",
    "\n",
    "print(f'{precip_mensal}')"
   ]
  }
 ],
 "metadata": {
  "kernelspec": {
   "display_name": "neto",
   "language": "python",
   "name": "python3"
  },
  "language_info": {
   "codemirror_mode": {
    "name": "ipython",
    "version": 3
   },
   "file_extension": ".py",
   "mimetype": "text/x-python",
   "name": "python",
   "nbconvert_exporter": "python",
   "pygments_lexer": "ipython3",
   "version": "3.13.2"
  }
 },
 "nbformat": 4,
 "nbformat_minor": 5
}
