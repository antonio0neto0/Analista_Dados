{
 "cells": [
  {
   "cell_type": "code",
   "execution_count": 7,
   "metadata": {},
   "outputs": [
    {
     "name": "stdout",
     "output_type": "stream",
     "text": [
      "[180 190]\n"
     ]
    },
    {
     "data": {
      "text/plain": [
       "array([ 5,  0, 15,  0, 25,  0])"
      ]
     },
     "execution_count": 7,
     "metadata": {},
     "output_type": "execute_result"
    }
   ],
   "source": [
    "import numpy as np\n",
    "# Desafio 1 - \n",
    "'''\n",
    "Utilizando um array com alturas de pessoas em centímetros abaixo, use a indexação booleana para identificar indivíduos com altura acima de 175 cm.\n",
    "'''\n",
    "alturas = np.array([160, 175, 170, 180, 165, 190])\n",
    "print(alturas[alturas > 175])\n",
    "\n",
    "# Desafio 2 -\n",
    "'''\n",
    "A partir do array de números abaixo, altere todos os números pares para 0.\n",
    "\n",
    "# Dica 1 - Para descobrir se um número é par, basta descobrir se o restante da divisão por 2 é = 0, se for 0, o número é par, caso contrário é ímpar\n",
    "\n",
    "# Dica 2 - Para descobrir o restante de uma divisão, basta usar o símbolo %, ex: 10 % 2 = 0, sendo assim temos um número par\n",
    "'''\n",
    "numeros = np.array([5, 10, 15, 20, 25, 30])\n",
    "numeros[numeros % 2 == 0] = 0\n",
    "numeros\n",
    "\n"
   ]
  }
 ],
 "metadata": {
  "kernelspec": {
   "display_name": "jhonatan",
   "language": "python",
   "name": "python3"
  },
  "language_info": {
   "codemirror_mode": {
    "name": "ipython",
    "version": 3
   },
   "file_extension": ".py",
   "mimetype": "text/x-python",
   "name": "python",
   "nbconvert_exporter": "python",
   "pygments_lexer": "ipython3",
   "version": "3.12.0"
  }
 },
 "nbformat": 4,
 "nbformat_minor": 2
}
