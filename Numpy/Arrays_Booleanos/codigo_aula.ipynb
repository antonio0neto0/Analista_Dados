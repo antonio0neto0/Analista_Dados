{
 "cells": [
  {
   "cell_type": "code",
   "execution_count": 9,
   "metadata": {},
   "outputs": [
    {
     "name": "stdout",
     "output_type": "stream",
     "text": [
      "[84]\n",
      "[22 19 20 18]\n",
      "[15  0 17  0  0 16  0]\n"
     ]
    }
   ],
   "source": [
    "import numpy as np\n",
    "\n",
    "# Array booleanos(True ou False) no numpy\n",
    "\"\"\"\n",
    "Quer identificar todos os produtos em uma lista que custam mais de R$50  porém menos do que R$100\n",
    "\"\"\"\n",
    "produtos = np.array([32, 141, 147,  88, 141, 107,  84, 108,  39, 124])\n",
    "produtos = produtos[(produtos > 50) & (produtos < 100)]\n",
    "produtos = produtos[(produtos == 32) | (produtos == 84)]\n",
    "produtos = produtos[produtos > 50]\n",
    "print(produtos)\n",
    "# Quero filtrar somente os alunos que são maiores de idade\n",
    "idades_estudantes = np.array([15, 22, 17, 19, 20, 16, 18])\n",
    "maiores_de_idade = idades_estudantes[idades_estudantes >= 18]\n",
    "print(maiores_de_idade)\n",
    "\n",
    "idades_estudantes[idades_estudantes >= 18] = 0\n",
    "print(idades_estudantes)"
   ]
  }
 ],
 "metadata": {
  "kernelspec": {
   "display_name": "neto",
   "language": "python",
   "name": "python3"
  },
  "language_info": {
   "codemirror_mode": {
    "name": "ipython",
    "version": 3
   },
   "file_extension": ".py",
   "mimetype": "text/x-python",
   "name": "python",
   "nbconvert_exporter": "python",
   "pygments_lexer": "ipython3",
   "version": "3.13.2"
  }
 },
 "nbformat": 4,
 "nbformat_minor": 2
}
