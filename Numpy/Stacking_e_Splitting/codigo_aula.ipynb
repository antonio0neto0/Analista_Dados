{
 "cells": [
  {
   "cell_type": "code",
   "execution_count": 74,
   "metadata": {},
   "outputs": [
    {
     "name": "stdout",
     "output_type": "stream",
     "text": [
      "Array empilhado verticalmente [[1 2 3]\n",
      " [4 5 6]]\n",
      "Array empilhado horizontalmente [1 2 3 4 5 6]\n",
      "Array dividido em 3 horizontalmente [array([1, 2]), array([3, 4]), array([5, 6])]\n",
      "[array([[3, 5, 7]]), array([[63, 43, 12]]), array([[23, 56, 34]])]\n"
     ]
    }
   ],
   "source": [
    "import numpy as np\n",
    "\n",
    "# Criando dois arrays simples\n",
    "array1 = np.array([1, 2, 3])\n",
    "array2 = np.array([4, 5, 6])\n",
    "\n",
    "# Stacking - Unir verticalmente\n",
    "array_emp_verticalmente = np.vstack((array1,array2))\n",
    "print(f'Array empilhado verticalmente {array_emp_verticalmente}')\n",
    "# Stacking - Unir horizontalmente\n",
    "array_emp_horizontalmente = np.hstack((array1,array2))\n",
    "print(f'Array empilhado horizontalmente {array_emp_horizontalmente}')\n",
    "\n",
    "# Criando um array - Dividindo arrays mairoes em arrays menores\n",
    "array3 = np.array([1, 2, 3, 4, 5, 6])\n",
    "array_dividido_em_3_horizontalmente = np.hsplit(array3,3)\n",
    "print(f'Array dividido em 3 horizontalmente {array_dividido_em_3_horizontalmente}')\n",
    "\n",
    "matriz = np.array([[3,5,7],\n",
    "                   [63,43,12],\n",
    "                   [23,56,34]])\n",
    "\n",
    "array_dividido_verticalmente = np.vsplit(matriz,3)\n",
    "print(array_dividido_verticalmente)"
   ]
  }
 ],
 "metadata": {
  "kernelspec": {
   "display_name": "jhonatan",
   "language": "python",
   "name": "python3"
  },
  "language_info": {
   "codemirror_mode": {
    "name": "ipython",
    "version": 3
   },
   "file_extension": ".py",
   "mimetype": "text/x-python",
   "name": "python",
   "nbconvert_exporter": "python",
   "pygments_lexer": "ipython3",
   "version": "3.12.0"
  }
 },
 "nbformat": 4,
 "nbformat_minor": 2
}
