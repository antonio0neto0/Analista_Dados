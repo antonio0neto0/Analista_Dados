{
 "cells": [
  {
   "cell_type": "code",
   "execution_count": 1,
   "metadata": {},
   "outputs": [
    {
     "name": "stdout",
     "output_type": "stream",
     "text": [
      "[10 11 12 13 14 20 21 22 23 24]\n",
      "[array([13, 14]), array([15, 16]), array([17, 18])]\n"
     ]
    }
   ],
   "source": [
    "import numpy as np\n",
    "# Desafio 1: Crie dois arrays que possuem 5 itens e use o método hstack para empilhá-los horizontalmente.\n",
    "array_1 = np.arange(10,15)\n",
    "array_2 = np.arange(20,25)\n",
    "print(np.hstack((array_1,array_2)))\n",
    "\n",
    "# Desafio 2: Dado um array de dimensão 6, divida-o em 3 arrays menores usando o método hsplit.\n",
    "array_3 = np.array([13, 14, 15, 16, 17, 18])\n",
    "print(np.hsplit(array_3,3))\n"
   ]
  }
 ],
 "metadata": {
  "kernelspec": {
   "display_name": "jhonatan",
   "language": "python",
   "name": "python3"
  },
  "language_info": {
   "codemirror_mode": {
    "name": "ipython",
    "version": 3
   },
   "file_extension": ".py",
   "mimetype": "text/x-python",
   "name": "python",
   "nbconvert_exporter": "python",
   "pygments_lexer": "ipython3",
   "version": "3.12.0"
  }
 },
 "nbformat": 4,
 "nbformat_minor": 2
}
