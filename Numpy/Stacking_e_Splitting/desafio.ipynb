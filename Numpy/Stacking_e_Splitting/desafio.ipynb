{
 "cells": [
  {
   "cell_type": "code",
   "execution_count": 16,
   "metadata": {},
   "outputs": [],
   "source": [
    "import numpy as np\n",
    "# Desafio 1: Crie dois arrays que possuem 5 itens e use o método hstack para empilhá-los horizontalmente.\n",
    "\n",
    "# Desafio 2: Dado um array de dimensão 6, divida-o em 3 arrays menores usando o método hsplit.\n",
    "array_3 = np.array([13, 14, 15, 16, 17, 18])\n"
   ]
  }
 ],
 "metadata": {
  "kernelspec": {
   "display_name": "jhonatan",
   "language": "python",
   "name": "python3"
  },
  "language_info": {
   "codemirror_mode": {
    "name": "ipython",
    "version": 3
   },
   "file_extension": ".py",
   "mimetype": "text/x-python",
   "name": "python",
   "nbconvert_exporter": "python",
   "pygments_lexer": "ipython3",
   "version": "3.12.0"
  }
 },
 "nbformat": 4,
 "nbformat_minor": 2
}
